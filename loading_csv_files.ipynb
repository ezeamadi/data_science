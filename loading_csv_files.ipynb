{
 "cells": [
  {
   "cell_type": "code",
   "execution_count": 1,
   "metadata": {},
   "outputs": [],
   "source": [
    "from csv import reader\n",
    "\n",
    "# Load dataset from CSV\n",
    "def load_data(filename):\n",
    "    dataset = list()\n",
    "    with open(filename, \"r\") as file:\n",
    "        csv_reader = reader(file)\n",
    "        for row in csv_reader:\n",
    "            if not row:\n",
    "                continue\n",
    "            dataset.append(row)\n",
    "    return dataset\n",
    "\n",
    "# to Convert string Columns to floats\n",
    "def string_to_float(dataset, col):\n",
    "    for row in dataset:\n",
    "        row[col] = float(row[col].strip())\n",
    "        \n",
    "# to convert string columns to integer\n",
    "def string_to_int(dataset, column):\n",
    "    class_values = [row[column] for row in dataset]\n",
    "    unique = set(class_values)\n",
    "    lookup = dict()\n",
    "    for i, value in enumerate(unique):\n",
    "        lookup[value] = i\n",
    "    for row in dataset:\n",
    "        row[column] = lookup[row[column]]\n",
    "    return lookup"
   ]
  },
  {
   "cell_type": "code",
   "execution_count": 2,
   "metadata": {},
   "outputs": [
    {
     "name": "stdout",
     "output_type": "stream",
     "text": [
      "Loaded data file pima-indians-diabetes.csv with 768 rows and 9 columns\n"
     ]
    }
   ],
   "source": [
    "filename = 'pima-indians-diabetes.csv'\n",
    "dataset = load_data(filename)\n",
    "print('Loaded data file {0} with {1} rows and {2} columns'\n",
    "      .format(filename, len(dataset), len(dataset[0])))"
   ]
  },
  {
   "cell_type": "code",
   "execution_count": 3,
   "metadata": {},
   "outputs": [
    {
     "name": "stdout",
     "output_type": "stream",
     "text": [
      "[6.0, 148.0, 72.0, 35.0, 0.0, 33.6, 0.627, 50.0, 1.0]\n"
     ]
    }
   ],
   "source": [
    "# Convert\n",
    "for i in range(len(dataset[0])):\n",
    "    string_to_float(dataset, i)\n",
    "print(dataset[0])"
   ]
  },
  {
   "cell_type": "code",
   "execution_count": 4,
   "metadata": {},
   "outputs": [
    {
     "name": "stdout",
     "output_type": "stream",
     "text": [
      "Loaded data file iris.csv with 150 rows and 5 columns\n",
      "['5.1', '3.5', '1.4', '0.2', 'Iris-setosa']\n",
      "['5.1', '3.5', '1.4', '0.2', 2]\n",
      "{'Iris-virginica': 0, 'Iris-versicolor': 1, 'Iris-setosa': 2}\n"
     ]
    }
   ],
   "source": [
    "filename = 'iris.csv'\n",
    "dataset = load_data(filename)\n",
    "print('Loaded data file {0} with {1} rows and {2} columns'\n",
    "      .format(filename, len(dataset), len(dataset[0])))\n",
    "print(dataset[0])\n",
    "\n",
    "# convert class column to int\n",
    "lookup = string_to_int(dataset, 4)\n",
    "print(dataset[0])\n",
    "print(lookup)"
   ]
  },
  {
   "cell_type": "code",
   "execution_count": 5,
   "metadata": {},
   "outputs": [
    {
     "name": "stdout",
     "output_type": "stream",
     "text": [
      "(5.1, 3.5, 1.4, 0.2, 'Iris-setosa')\n",
      "(5.1, 3.5, 1.4, 0.2, '2')\n",
      "{'Iris-virginica': 0, 'Iris-versicolor': 1, 'Iris-setosa': 2}\n",
      "[  6 148  72  35   0  33   0  50   1]\n"
     ]
    }
   ],
   "source": [
    "#############################################################\n",
    "######                  USING NUMPY                    ######\n",
    "#############################################################\n",
    "\n",
    "import numpy as np\n",
    "\n",
    "filename = 'iris.csv'\n",
    "dataset = np.genfromtxt(filename, \n",
    "                        delimiter=',', \n",
    "                        dtype=None, \n",
    "                        encoding='ascii'\n",
    "                       )\n",
    "print(dataset[0])\n",
    "\n",
    "lookup = string_to_int(dataset, 4)\n",
    "print(dataset[0])\n",
    "print(lookup)\n",
    "\n",
    "np_dataset = np.loadtxt('pima-indians-diabetes.csv', dtype='int16', delimiter=',')\n",
    "print(np_dataset[0])"
   ]
  },
  {
   "cell_type": "code",
   "execution_count": null,
   "metadata": {},
   "outputs": [],
   "source": []
  }
 ],
 "metadata": {
  "kernelspec": {
   "display_name": "Python 3",
   "language": "python",
   "name": "python3"
  },
  "language_info": {
   "codemirror_mode": {
    "name": "ipython",
    "version": 3
   },
   "file_extension": ".py",
   "mimetype": "text/x-python",
   "name": "python",
   "nbconvert_exporter": "python",
   "pygments_lexer": "ipython3",
   "version": "3.8.5"
  },
  "toc-autonumbering": false,
  "toc-showcode": false,
  "toc-showmarkdowntxt": true,
  "toc-showtags": false
 },
 "nbformat": 4,
 "nbformat_minor": 4
}
