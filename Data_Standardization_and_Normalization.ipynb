{
 "cells": [
  {
   "cell_type": "code",
   "execution_count": 1,
   "metadata": {},
   "outputs": [],
   "source": [
    "##################################\n",
    "#       DATA NORMALIZATION       #\n",
    "# This means rescaling of input  #\n",
    "# data to a particular range,    #\n",
    "# for this example: 0 to 1       #\n",
    "##################################\n",
    "\n",
    "from csv import reader\n",
    "\n",
    "def load_csv(filename):\n",
    "    dataset = list()\n",
    "    with open(filename, 'r') as file:\n",
    "        csv_reader = reader(file)\n",
    "        for row in csv_reader:\n",
    "            if not row:\n",
    "                continue\n",
    "            dataset.append(row)\n",
    "    return dataset\n",
    "\n",
    "# Convert string column to float\n",
    "def str_column_to_float(dataset, column):\n",
    "    for row in dataset:\n",
    "        row[column] = float(row[column].strip())\n",
    "\n",
    "\n",
    "def dataset_minmax(dataset):\n",
    "    minmax = list()\n",
    "    for i in range(len(dataset[0])):\n",
    "        col_values = [row[i] for row in dataset]\n",
    "        value_min = min(col_values)\n",
    "        value_max = max(col_values)\n",
    "        minmax.append([value_min, value_max])\n",
    "    return minmax\n",
    "\n",
    "\n",
    "###################################################################\n",
    "#### Using the formula: Scaled Value = value - min / max - min ####\n",
    "###################################################################\n",
    "\n",
    "def normalize_dataset(dataset, minmax):\n",
    "    for row in dataset:\n",
    "        for i in range(len(row)):\n",
    "            row[i] = (row[i] - minmax[i][0]) / (minmax[i][1] - minmax[i][0])\n"
   ]
  },
  {
   "cell_type": "code",
   "execution_count": 3,
   "metadata": {
    "scrolled": true
   },
   "outputs": [
    {
     "name": "stdout",
     "output_type": "stream",
     "text": [
      "Loaded data file pima-indians-diabetes.csv with 768 rows and 9 columns\n",
      "First Row of actual Dataset:  [6.0, 148.0, 72.0, 35.0, 0.0, 33.6, 0.627, 50.0, 1.0]\n",
      "The minmax array:  [[0.0, 17.0], [0.0, 199.0], [0.0, 122.0], [0.0, 99.0], [0.0, 846.0], [0.0, 67.1], [0.078, 2.42], [21.0, 81.0], [0.0, 1.0]]\n",
      "First Row of  Dataset:  [0.35294117647058826, 0.7437185929648241, 0.5901639344262295, 0.35353535353535354, 0.0, 0.5007451564828614, 0.23441502988898377, 0.48333333333333334, 1.0]\n"
     ]
    }
   ],
   "source": [
    "filename = 'pima-indians-diabetes.csv'\n",
    "dataset = load_csv(filename)\n",
    "\n",
    "print('Loaded data file {0} with {1} rows and {2} columns'\n",
    "      .format(filename, len(dataset), len(dataset[0])))\n",
    "\n",
    "# convert string columns to float\n",
    "for i in range(len(dataset[0])):\n",
    "    str_column_to_float(dataset, i)\n",
    "print(\"First Row of actual Dataset: \", dataset[0])\n",
    "\n",
    "minmax = dataset_minmax(dataset)\n",
    "print(\"The minmax array: \", minmax)\n",
    "\n",
    "normalize_dataset(dataset, minmax)\n",
    "print(\"First Row of  Dataset: \", dataset[0])"
   ]
  },
  {
   "cell_type": "code",
   "execution_count": 14,
   "metadata": {},
   "outputs": [
    {
     "name": "stdout",
     "output_type": "stream",
     "text": [
      "Means:  [0.2261795343137268, 0.6075102072864326, 0.5664382684426226, 0.207438973063974, 0.09432562549251379, 0.47678953986587147, 0.16817946288784516, 0.2040147569444446, 0.3489583333333333]\n",
      "Standard Deviation:  [0.19821047427640448, 0.16066642309113685, 0.15865415713643255, 0.16113351078512722, 0.13622222500158185, 0.11749866349292773, 0.1414725000054547, 0.19600385901131126, 0.4769513772427971]\n",
      "Standardized Dataset with Means and Standard Deviation:  [0.6395304921176485, 0.8477713205896689, 0.14954329852954532, 0.9066790623472494, -0.6924393247241297, 0.20387990726747174, 0.4681868702297959, 1.4250667195933597, 1.3650063669598067]\n"
     ]
    }
   ],
   "source": [
    "######################################\n",
    "#       DATA STANDARDIZATION         #\n",
    "# This means centering the data      #\n",
    "# on the value 0 and the standad     #\n",
    "# deviation of 1. Together, these    #\n",
    "# values help to create a Normal     #\n",
    "# (Gaussian) distribution            #\n",
    "######################################\n",
    "\n",
    "from math import sqrt\n",
    "\n",
    "# Calculating column means\n",
    "def column_means(dataset):\n",
    "    means = [0 for i in range(len(dataset[0]))]\n",
    "    for i in range(len(dataset[0])):\n",
    "        col_values = [row[i] for row in dataset]\n",
    "        means[i] = sum(col_values) / float(len(dataset))\n",
    "    return means\n",
    "\n",
    "\n",
    "# Calculating column standard deviations\n",
    "def column_stdevs(dataset, means):\n",
    "    stdevs = [0 for i in range(len(dataset[0]))]\n",
    "    for i in range(len(dataset[0])):\n",
    "        variance = [pow(row[i] - means[i], 2) for row in dataset]\n",
    "        stdevs[i] = sum(variance)\n",
    "    stdevs = [sqrt(x/(float(len(dataset) - 1))) for x in stdevs]\n",
    "    return stdevs\n",
    "\n",
    "\n",
    "###################################################################\n",
    "####        Standardized Value = (value - mean) / stdev        ####\n",
    "###################################################################\n",
    "\n",
    "# standardize dataset\n",
    "def standardize_dataset(dataset, means, stdevs):\n",
    "    for row in dataset:\n",
    "        for i in range(len(row)):\n",
    "            row[i] = (row[i] - means[i]) / stdevs[i]\n",
    "            \n",
    "            \n",
    "\n",
    "means = column_means(dataset)\n",
    "stdevs = column_stdevs(dataset, means)\n",
    "print(\"Means: \", means)\n",
    "\n",
    "print(\"Standard Deviation: \", stdevs)\n",
    "\n",
    "# Standardize Dataset\n",
    "standardize_dataset(dataset, means, stdevs)\n",
    "print(\"Standardized Dataset with Means and Standard Deviation: \", dataset[0])"
   ]
  },
  {
   "cell_type": "code",
   "execution_count": null,
   "metadata": {},
   "outputs": [],
   "source": []
  }
 ],
 "metadata": {
  "kernelspec": {
   "display_name": "Python 3",
   "language": "python",
   "name": "python3"
  },
  "language_info": {
   "codemirror_mode": {
    "name": "ipython",
    "version": 3
   },
   "file_extension": ".py",
   "mimetype": "text/x-python",
   "name": "python",
   "nbconvert_exporter": "python",
   "pygments_lexer": "ipython3",
   "version": "3.8.5"
  }
 },
 "nbformat": 4,
 "nbformat_minor": 4
}
